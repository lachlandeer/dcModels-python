{
 "cells": [
  {
   "cell_type": "markdown",
   "metadata": {},
   "source": [
    "# Simulating and Estimating a Multinomial Logit Model with SciPy\n",
    "\n",
    "(some motivation to come later)"
   ]
  },
  {
   "cell_type": "code",
   "execution_count": 1,
   "metadata": {
    "collapsed": true
   },
   "outputs": [],
   "source": [
    "import numpy as np\n",
    "from scipy import optimize as opt"
   ]
  },
  {
   "cell_type": "code",
   "execution_count": 28,
   "metadata": {
    "collapsed": false
   },
   "outputs": [],
   "source": [
    "# Model Primitives\n",
    "np.random.seed(1234567890)\n",
    "\n",
    "nObs = 10000\n",
    "beta1 = [0.5, 1.25]\n",
    "beta2 = [0.5, 0.75]\n",
    "beta = np.column_stack((beta1, beta2))\n",
    "income= np.random.uniform(size = nObs) # draws from standard normal\n",
    "explVar = np.column_stack((np.ones(nObs), income))"
   ]
  },
  {
   "cell_type": "code",
   "execution_count": 29,
   "metadata": {
    "collapsed": false
   },
   "outputs": [
    {
     "data": {
      "text/plain": [
       "array([[ 0.5 ,  0.5 ],\n",
       "       [ 1.25,  0.75]])"
      ]
     },
     "execution_count": 29,
     "metadata": {},
     "output_type": "execute_result"
    }
   ],
   "source": [
    "beta"
   ]
  },
  {
   "cell_type": "code",
   "execution_count": 30,
   "metadata": {
    "collapsed": false
   },
   "outputs": [],
   "source": [
    "def simulateMultinomialLogit(x, beta):\n",
    "    nObs, nExplVar = x.shape\n",
    "    nChoice  = beta.shape[1] + 1 # add the outside option\n",
    "    \n",
    "    epsilon = np.random.gumbel(size = [nObs, nChoice])\n",
    "    beta_augmented = np.column_stack([np.zeros(beta.shape[0]), beta])\n",
    "    utility = x @ beta_augmented + epsilon\n",
    "    choice = np.argmax(utility, axis=1)\n",
    "    return  choice, utility"
   ]
  },
  {
   "cell_type": "code",
   "execution_count": 31,
   "metadata": {
    "collapsed": false
   },
   "outputs": [],
   "source": [
    "choice, utility = simulateMultinomialLogit(explVar, beta)"
   ]
  },
  {
   "cell_type": "markdown",
   "metadata": {},
   "source": [
    "## Plot Choices in a 2D diagram"
   ]
  },
  {
   "cell_type": "code",
   "execution_count": 32,
   "metadata": {
    "collapsed": true
   },
   "outputs": [],
   "source": [
    "import matplotlib.pyplot as plt"
   ]
  },
  {
   "cell_type": "code",
   "execution_count": 33,
   "metadata": {
    "collapsed": true
   },
   "outputs": [],
   "source": [
    "%matplotlib inline"
   ]
  },
  {
   "cell_type": "code",
   "execution_count": 34,
   "metadata": {
    "collapsed": false
   },
   "outputs": [
    {
     "data": {
      "text/plain": [
       "[<matplotlib.lines.Line2D at 0x698c601ba8>]"
      ]
     },
     "execution_count": 34,
     "metadata": {},
     "output_type": "execute_result"
    },
    {
     "data": {
      "image/png": "[encoded data removed]",
      "text/plain": [
       "<matplotlib.figure.Figure at 0x698c6016a0>"
      ]
     },
     "metadata": {},
     "output_type": "display_data"
    }
   ],
   "source": [
    "fig, ax = plt.subplots()\n",
    "ax.scatter(utility[(choice==0), 0] - utility[(choice==0), 1], utility[(choice==0), 1] - utility[(choice==0), 2], color='r')\n",
    "ax.scatter(utility[(choice==1), 0] - utility[(choice==1), 1], utility[(choice==1), 1] - utility[(choice==1), 2], color='g')\n",
    "ax.scatter(utility[(choice==2), 0] - utility[(choice==2), 1], utility[(choice==2), 1] - utility[(choice==2), 2], color='b')\n",
    "plt.vlines(x=min(utility[(choice==0), 0] - utility[(choice==0), 1]), ymin=0, ymax=10, color='k', lw=2.0 )\n",
    "plt.hlines(y=min(utility[(choice==0), 0] - utility[(choice==0), 2]), xmin=-10, xmax=0, color='k', lw=2.0)\n",
    "plt.plot([0, max(utility[(choice==0), 0] - utility[(choice==0), 1])], \n",
    "         [0,-max(utility[(choice==0), 0] - utility[(choice==0), 1])], color='k', lw=2.0)\n"
   ]
  },
  {
   "cell_type": "code",
   "execution_count": 35,
   "metadata": {
    "collapsed": false
   },
   "outputs": [],
   "source": [
    "# beta_g1 = [1, 2]\n",
    "# beta_g2 = [3, 4]\n",
    "# beta_g = np.row_stack((beta_g1, beta_g2))\n",
    "# print(beta_g)\n",
    "\n",
    "def logLike_multinomialLogit(beta, y, x):\n",
    "    \n",
    "    nObs, nExplVar = x.shape\n",
    "    choices = np.unique(y)\n",
    "    nChoices = choices.shape[0]\n",
    "    \n",
    "    beta_wide = beta.reshape(nExplVar, nChoices-1).T\n",
    "    #print(beta_wide)\n",
    "    beta_aug  = np.vstack([np.zeros(beta_wide.shape[0]), beta_wide])\n",
    "    \n",
    "    linearIndex = x @ beta_aug.T\n",
    "    \n",
    "    def softmax(z):\n",
    "        return (np.exp(z.T) / np.sum(np.exp(z), axis=1)).T\n",
    "    \n",
    "    choiceProb = softmax(linearIndex)\n",
    "    \n",
    "    # for each row, extract the probability for the choice they have in the data\n",
    "    allRows = np.arange(choiceProb.shape[0])\n",
    "    indivChoiceProb = choiceProb[allRows, y]\n",
    "    \n",
    "    #\n",
    "    ll_i = np.log(indivChoiceProb)\n",
    "    logLike = - ll_i.sum()\n",
    "    return  logLike"
   ]
  },
  {
   "cell_type": "code",
   "execution_count": 39,
   "metadata": {
    "collapsed": false
   },
   "outputs": [
    {
     "name": "stdout",
     "output_type": "stream",
     "text": [
      "beta hat is: [[ 0.59966021  0.58330047]\n",
      " [ 1.0887541   0.6406402 ]]\n",
      "value of likelihood at beta: 10039.6524537\n"
     ]
    }
   ],
   "source": [
    "beta0 = np.zeros(4)\n",
    "out = opt.minimize(logLike_multinomialLogit, beta0, args=(choice, explVar) , method='L-BFGS-B', tol=1e-12)\n",
    "\n",
    "print('beta hat is:', out.x.reshape(2,2))\n",
    "\n",
    "print('value of likelihood at beta:', out.fun)"
   ]
  },
  {
   "cell_type": "code",
   "execution_count": 37,
   "metadata": {
    "collapsed": false
   },
   "outputs": [
    {
     "data": {
      "text/plain": [
       "      fun: 10039.652453737697\n",
       " hess_inv: <4x4 LbfgsInvHessProduct with dtype=float64>\n",
       "      jac: array([ 0.       , -0.0001819,  0.       ,  0.       ])\n",
       "  message: b'CONVERGENCE: REL_REDUCTION_OF_F_<=_FACTR*EPSMCH'\n",
       "     nfev: 95\n",
       "      nit: 16\n",
       "   status: 0\n",
       "  success: True\n",
       "        x: array([ 0.59966021,  0.58330047,  1.0887541 ,  0.6406402 ])"
      ]
     },
     "execution_count": 37,
     "metadata": {},
     "output_type": "execute_result"
    }
   ],
   "source": [
    "out"
   ]
  },
  {
   "cell_type": "code",
   "execution_count": 11,
   "metadata": {
    "collapsed": false
   },
   "outputs": [
    {
     "data": {
      "text/plain": [
       "14810.800454461647"
      ]
     },
     "execution_count": 11,
     "metadata": {},
     "output_type": "execute_result"
    }
   ],
   "source": [
    "one"
   ]
  }
 ],
 "metadata": {
  "kernelspec": {
   "display_name": "Python 3",
   "language": "python",
   "name": "python3"
  },
  "language_info": {
   "codemirror_mode": {
    "name": "ipython",
    "version": 3
   },
   "file_extension": ".py",
   "mimetype": "text/x-python",
   "name": "python",
   "nbconvert_exporter": "python",
   "pygments_lexer": "ipython3",
   "version": "3.5.1"
  }
 },
 "nbformat": 4,
 "nbformat_minor": 0
}
