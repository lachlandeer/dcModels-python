{
 "cells": [
  {
   "cell_type": "markdown",
   "metadata": {},
   "source": [
    "# Simulating and Estimating a Multinomial Logit Model with SciPy\n",
    "\n",
    "(some motivation to come later)"
   ]
  },
  {
   "cell_type": "code",
   "execution_count": 1,
   "metadata": {
    "collapsed": true
   },
   "outputs": [],
   "source": [
    "import numpy as np\n",
    "from scipy import optimize as opt"
   ]
  },
  {
   "cell_type": "code",
   "execution_count": 25,
   "metadata": {
    "collapsed": false
   },
   "outputs": [],
   "source": [
    "# Model Primitives\n",
    "np.random.seed(1234567890)\n",
    "\n",
    "nObs = 10000\n",
    "beta1 = [0.5, 0.25]\n",
    "beta2 = [0.5, 0.75]\n",
    "beta = np.column_stack((beta1, beta2))\n",
    "income= np.random.uniform(size = nObs) # draws from standard normal\n",
    "explVar = np.column_stack((np.ones(nObs), income))"
   ]
  },
  {
   "cell_type": "code",
   "execution_count": 26,
   "metadata": {
    "collapsed": false
   },
   "outputs": [
    {
     "data": {
      "text/plain": [
       "array([[ 0.5 ,  0.5 ],\n",
       "       [ 0.25,  0.75]])"
      ]
     },
     "execution_count": 26,
     "metadata": {},
     "output_type": "execute_result"
    }
   ],
   "source": [
    "beta"
   ]
  },
  {
   "cell_type": "code",
   "execution_count": 3,
   "metadata": {
    "collapsed": false
   },
   "outputs": [],
   "source": [
    "def simulateMultinomialLogit(x, beta):\n",
    "    nObs, nExplVar = x.shape\n",
    "    nChoice  = beta.shape[1] + 1 # add the outside option\n",
    "    \n",
    "    epsilon = np.random.gumbel(size = [nObs, nChoice])\n",
    "    beta_augmented = np.column_stack([np.zeros(beta.shape[0]), beta])\n",
    "    utility = x @ beta_augmented + epsilon\n",
    "    choice = np.argmax(utility, axis=1)\n",
    "    return  choice, utility"
   ]
  },
  {
   "cell_type": "code",
   "execution_count": 4,
   "metadata": {
    "collapsed": false
   },
   "outputs": [],
   "source": [
    "choice, utility = simulateMultinomialLogit(explVar, beta)"
   ]
  },
  {
   "cell_type": "markdown",
   "metadata": {},
   "source": [
    "## Plot Choices in a 2D diagram"
   ]
  },
  {
   "cell_type": "code",
   "execution_count": 5,
   "metadata": {
    "collapsed": true
   },
   "outputs": [],
   "source": [
    "import matplotlib.pyplot as plt"
   ]
  },
  {
   "cell_type": "code",
   "execution_count": 6,
   "metadata": {
    "collapsed": true
   },
   "outputs": [],
   "source": [
    "%matplotlib inline"
   ]
  },
  {
   "cell_type": "code",
   "execution_count": 7,
   "metadata": {
    "collapsed": false
   },
   "outputs": [
    {
     "data": {
      "text/plain": [
       "[<matplotlib.lines.Line2D at 0xd19a553b00>]"
      ]
     },
     "execution_count": 7,
     "metadata": {},
     "output_type": "execute_result"
    },
    {
     "data": {
      "image/png": "[encoded data removed]",
      "text/plain": [
       "<matplotlib.figure.Figure at 0xd19a4da668>"
      ]
     },
     "metadata": {},
     "output_type": "display_data"
    }
   ],
   "source": [
    "fig, ax = plt.subplots()\n",
    "ax.scatter(utility[(choice==0), 0] - utility[(choice==0), 1], utility[(choice==0), 1] - utility[(choice==0), 2], color='r')\n",
    "ax.scatter(utility[(choice==1), 0] - utility[(choice==1), 1], utility[(choice==1), 1] - utility[(choice==1), 2], color='g')\n",
    "ax.scatter(utility[(choice==2), 0] - utility[(choice==2), 1], utility[(choice==2), 1] - utility[(choice==2), 2], color='b')\n",
    "plt.vlines(x=min(utility[(choice==0), 0] - utility[(choice==0), 1]), ymin=0, ymax=10, color='k', lw=2.0 )\n",
    "plt.hlines(y=min(utility[(choice==0), 0] - utility[(choice==0), 2]), xmin=-10, xmax=0, color='k', lw=2.0)\n",
    "plt.plot([0, max(utility[(choice==0), 0] - utility[(choice==0), 1])], \n",
    "         [0,-max(utility[(choice==0), 0] - utility[(choice==0), 1])], color='k', lw=2.0)\n"
   ]
  },
  {
   "cell_type": "code",
   "execution_count": 57,
   "metadata": {
    "collapsed": false
   },
   "outputs": [
    {
     "name": "stdout",
     "output_type": "stream",
     "text": [
      "[[1 3]\n",
      " [2 4]]\n"
     ]
    }
   ],
   "source": [
    "beta_g1 = [1, 2]\n",
    "beta_g2 = [3, 4]\n",
    "beta_g = np.column_stack((beta_g1, beta_g2))\n",
    "print(beta_g)\n",
    "\n",
    "def logLike_multinomialLogit(beta, y, x):\n",
    "    \n",
    "    nObs, nExplVar = x.shape\n",
    "    choices = np.unique(y)\n",
    "    nChoices = choices.shape[0]\n",
    "    \n",
    "    beta_wide = beta.reshape(nExplVar, nChoices-1)\n",
    "    beta_aug  = np.vstack([np.zeros(beta_wide.shape[0]), beta_wide])\n",
    "    \n",
    "    linearIndex = x @ beta_aug.T\n",
    "    \n",
    "    def softmax(z):\n",
    "        return (np.exp(z.T) / np.sum(np.exp(z), axis=1)).T\n",
    "    \n",
    "    choiceProb = softmax(linearIndex)\n",
    "    \n",
    "    for iChoice in choices:\n",
    "        print(iChoice)\n",
    "        choiceIdx = np.zero\n",
    "#       choiceIdx(:, count)     = (y == count);\n",
    "\n",
    "    #     choiceProb   = logistic.cdf(x @ beta);\n",
    "    \n",
    "#     ll_i         = np.log( (y==1) * (choiceProb) + (y==0) * (1 - choiceProb))\n",
    "#     logLike      = -(ll_i.sum())\n",
    "#     return logLike\n",
    "    return choiceProb"
   ]
  },
  {
   "cell_type": "code",
   "execution_count": 58,
   "metadata": {
    "collapsed": false
   },
   "outputs": [
    {
     "name": "stdout",
     "output_type": "stream",
     "text": [
      "0\n",
      "1\n",
      "2\n"
     ]
    },
    {
     "data": {
      "text/plain": [
       "array([[ 0.00941541,  0.16381412,  0.82677047],\n",
       "       [ 0.01043802,  0.16738994,  0.82217204],\n",
       "       [ 0.00334946,  0.13095454,  0.865696  ],\n",
       "       ..., \n",
       "       [ 0.01051318,  0.16764062,  0.8218462 ],\n",
       "       [ 0.05442067,  0.22832294,  0.71725639],\n",
       "       [ 0.00625569,  0.15014889,  0.84359542]])"
      ]
     },
     "execution_count": 58,
     "metadata": {},
     "output_type": "execute_result"
    }
   ],
   "source": [
    "logLike_multinomialLogit(beta_g, choice, explVar)"
   ]
  },
  {
   "cell_type": "code",
   "execution_count": 37,
   "metadata": {
    "collapsed": false
   },
   "outputs": [
    {
     "data": {
      "text/plain": [
       "array([[ 0.,  0.],\n",
       "       [ 1.,  3.],\n",
       "       [ 2.,  4.]])"
      ]
     },
     "execution_count": 37,
     "metadata": {},
     "output_type": "execute_result"
    }
   ],
   "source": [
    "xx"
   ]
  },
  {
   "cell_type": "code",
   "execution_count": 23,
   "metadata": {
    "collapsed": false
   },
   "outputs": [
    {
     "data": {
      "text/plain": [
       "array([[ 0.5 ,  0.5 ],\n",
       "       [ 0.25,  0.75]])"
      ]
     },
     "execution_count": 23,
     "metadata": {},
     "output_type": "execute_result"
    }
   ],
   "source": [
    "beta.reshape(1, 4).reshape(2,2)"
   ]
  },
  {
   "cell_type": "code",
   "execution_count": null,
   "metadata": {
    "collapsed": true
   },
   "outputs": [],
   "source": []
  }
 ],
 "metadata": {
  "kernelspec": {
   "display_name": "Python 3",
   "language": "python",
   "name": "python3"
  },
  "language_info": {
   "codemirror_mode": {
    "name": "ipython",
    "version": 3
   },
   "file_extension": ".py",
   "mimetype": "text/x-python",
   "name": "python",
   "nbconvert_exporter": "python",
   "pygments_lexer": "ipython3",
   "version": "3.5.1"
  }
 },
 "nbformat": 4,
 "nbformat_minor": 0
}
