{
 "cells": [
  {
   "cell_type": "code",
   "execution_count": 1,
   "metadata": {
    "collapsed": true
   },
   "outputs": [],
   "source": [
    "import numpy as np\n",
    "from scipy import optimize as opt"
   ]
  },
  {
   "cell_type": "code",
   "execution_count": 2,
   "metadata": {
    "collapsed": false
   },
   "outputs": [],
   "source": [
    "# Model Primitives\n",
    "np.random.seed(1234567890)\n",
    "\n",
    "nObs = 1000\n",
    "beta = np.array([0.5, 0.5] , dtype=float)\n",
    "income= np.random.uniform(size = nObs) # draws from standard normal\n",
    "explVar = np.vstack([np.ones(nObs), income]).T"
   ]
  },
  {
   "cell_type": "code",
   "execution_count": 3,
   "metadata": {
    "collapsed": false
   },
   "outputs": [],
   "source": [
    "def simulateBinaryLogit(x, beta):\n",
    "    nObs     = x.shape[0]\n",
    "    nChoice  = 2;\n",
    "    \n",
    "    epsilon = np.random.gumbel(size = [nObs, nChoice])\n",
    "    beta_augmented = np.vstack([beta, np.zeros(beta.shape)])\n",
    "    \n",
    "    utility = x @ beta_augmented + epsilon\n",
    "    \n",
    "    return np.argmax(utility, axis=1)"
   ]
  },
  {
   "cell_type": "code",
   "execution_count": 4,
   "metadata": {
    "collapsed": false
   },
   "outputs": [],
   "source": [
    "choice = simulateBinaryLogit(explVar, beta)"
   ]
  },
  {
   "cell_type": "code",
   "execution_count": 5,
   "metadata": {
    "collapsed": false
   },
   "outputs": [
    {
     "data": {
      "text/plain": [
       "(1000, 3)"
      ]
     },
     "execution_count": 5,
     "metadata": {},
     "output_type": "execute_result"
    }
   ],
   "source": [
    "data = np.hstack((choice.reshape(nObs, 1), explVar))\n",
    "data.shape"
   ]
  },
  {
   "cell_type": "code",
   "execution_count": 6,
   "metadata": {
    "collapsed": false
   },
   "outputs": [],
   "source": [
    "def calcLambda(x, beta):\n",
    "    prob = np.exp(x @ beta)  / (1 + np.exp(x @ beta))\n",
    "    return prob"
   ]
  },
  {
   "cell_type": "code",
   "execution_count": 7,
   "metadata": {
    "collapsed": false
   },
   "outputs": [],
   "source": [
    "def logLike_binaryLogit(beta, y, x):\n",
    "    choiceProb   = calcLambda(x, beta);\n",
    "    \n",
    "    ll_i         = y * np.log(choiceProb) + (1 - y) * np.log(1 - choiceProb);\n",
    "    logLike      = -(ll_i.sum())\n",
    "    return -((-np.log(1 + np.exp(np.dot(x, beta)))).sum() + (y*(np.dot(x, beta))).sum())\n",
    "    #return logLike"
   ]
  },
  {
   "cell_type": "code",
   "execution_count": 8,
   "metadata": {
    "collapsed": false
   },
   "outputs": [
    {
     "data": {
      "text/plain": [
       "      fun: 692.8698580664086\n",
       " hess_inv: array([[ 0.01668105, -0.0250069 ],\n",
       "       [-0.0250069 ,  0.04933067]])\n",
       "      jac: array([ 0.,  0.])\n",
       "  message: 'Optimization terminated successfully.'\n",
       "     nfev: 44\n",
       "      nit: 6\n",
       "     njev: 11\n",
       "   status: 0\n",
       "  success: True\n",
       "        x: array([ 0.03956486, -0.13323202])"
      ]
     },
     "execution_count": 8,
     "metadata": {},
     "output_type": "execute_result"
    }
   ],
   "source": [
    "beta0 = np.ones(2)\n",
    "opt.minimize(logLike_binaryLogit, beta0, args=(data[:,0], data[:,1:]) , method='BFGS', tol=1e-12)"
   ]
  },
  {
   "cell_type": "code",
   "execution_count": null,
   "metadata": {
    "collapsed": true
   },
   "outputs": [],
   "source": []
  }
 ],
 "metadata": {
  "kernelspec": {
   "display_name": "Python 3",
   "language": "python",
   "name": "python3"
  },
  "language_info": {
   "codemirror_mode": {
    "name": "ipython",
    "version": 3
   },
   "file_extension": ".py",
   "mimetype": "text/x-python",
   "name": "python",
   "nbconvert_exporter": "python",
   "pygments_lexer": "ipython3",
   "version": "3.5.1"
  }
 },
 "nbformat": 4,
 "nbformat_minor": 0
}
