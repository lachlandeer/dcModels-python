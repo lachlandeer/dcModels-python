{
 "cells": [
  {
   "cell_type": "code",
   "execution_count": 1,
   "metadata": {
    "collapsed": true
   },
   "outputs": [],
   "source": [
    "import numpy as np\n",
    "from scipy import optimize as opt"
   ]
  },
  {
   "cell_type": "code",
   "execution_count": 9,
   "metadata": {
    "collapsed": false
   },
   "outputs": [],
   "source": [
    "# Model Primitives\n",
    "np.random.seed(1234567890)\n",
    "\n",
    "nObs = 1000\n",
    "beta = np.array([0.5, 0.5] , dtype=float)\n",
    "income= np.random.uniform(size = nObs) # draws from standard normal\n",
    "explVar = np.vstack([np.ones(nObs), income]).T"
   ]
  },
  {
   "cell_type": "code",
   "execution_count": 41,
   "metadata": {
    "collapsed": false
   },
   "outputs": [],
   "source": [
    "def simulateBinaryLogit(x, beta):\n",
    "    nObs     = x.shape[0]\n",
    "    nChoice  = 2;\n",
    "    \n",
    "    epsilon = np.random.gumbel(size = [nObs, nChoice])\n",
    "    beta_augmented = np.vstack([np.zeros(beta.shape), beta])\n",
    "    utility = x @ beta_augmented.T + epsilon\n",
    "    return np.argmax(utility, axis=1)"
   ]
  },
  {
   "cell_type": "code",
   "execution_count": 42,
   "metadata": {
    "collapsed": false
   },
   "outputs": [
    {
     "data": {
      "text/plain": [
       "array([0, 1, 1, 0, 1, 0, 1, 1, 1], dtype=int64)"
      ]
     },
     "execution_count": 42,
     "metadata": {},
     "output_type": "execute_result"
    }
   ],
   "source": [
    "choice = simulateBinaryLogit(explVar, beta)\n",
    "\n",
    "choice[1:10]"
   ]
  },
  {
   "cell_type": "code",
   "execution_count": 12,
   "metadata": {
    "collapsed": false
   },
   "outputs": [
    {
     "data": {
      "text/plain": [
       "(1000, 3)"
      ]
     },
     "execution_count": 12,
     "metadata": {},
     "output_type": "execute_result"
    }
   ],
   "source": [
    "data = np.hstack((choice.reshape(nObs, 1), explVar))\n",
    "data.shape"
   ]
  },
  {
   "cell_type": "code",
   "execution_count": 13,
   "metadata": {
    "collapsed": false
   },
   "outputs": [],
   "source": [
    "def calcLambda(x, beta):\n",
    "    prob = np.exp(x @ beta)  / (1 + np.exp(x @ beta))\n",
    "    return prob"
   ]
  },
  {
   "cell_type": "code",
   "execution_count": 110,
   "metadata": {
    "collapsed": false
   },
   "outputs": [],
   "source": [
    "def logLike_binaryLogit(beta, y, x):\n",
    "    choiceProb   = calcLambda(x, beta);\n",
    "    \n",
    "    ll_i         = y * np.log(choiceProb) + (1 - y) * np.log(1 - choiceProb);\n",
    "    logLike      = -(ll_i.sum())\n",
    "    return logLike"
   ]
  },
  {
   "cell_type": "code",
   "execution_count": 123,
   "metadata": {
    "collapsed": false
   },
   "outputs": [
    {
     "name": "stdout",
     "output_type": "stream",
     "text": [
      "beta hat is: [ 0.40157312  0.5869323 ]\n",
      "value of likelihood at beta: 633.200201176\n"
     ]
    },
    {
     "data": {
      "text/plain": [
       "      fun: 633.20020117642594\n",
       " hess_inv: <2x2 LbfgsInvHessProduct with dtype=float64>\n",
       "      jac: array([ 0.,  0.])\n",
       "  message: b'CONVERGENCE: NORM_OF_PROJECTED_GRADIENT_<=_PGTOL'\n",
       "     nfev: 30\n",
       "      nit: 8\n",
       "   status: 0\n",
       "  success: True\n",
       "        x: array([ 0.40157312,  0.5869323 ])"
      ]
     },
     "execution_count": 123,
     "metadata": {},
     "output_type": "execute_result"
    }
   ],
   "source": [
    "beta0 = np.zeros(2)\n",
    "out = opt.minimize(logLike_binaryLogit, beta0, args=(data[:,0], data[:,1:]) , method='L-BFGS-B', tol=1e-12)\n",
    "\n",
    "print('beta hat is:', out.x)\n",
    "\n",
    "print('value of likelihood at beta:', out.fun)\n",
    "\n",
    "# how to get SE's?\n",
    "out"
   ]
  },
  {
   "cell_type": "code",
   "execution_count": 137,
   "metadata": {
    "collapsed": false
   },
   "outputs": [],
   "source": [
    "# Simulated Maximum Likelihood\n",
    "\n",
    "def logLikeSim_binaryLogit(beta, y, x, nSim):\n",
    "    np.random.seed(42)\n",
    "    \n",
    "    #print(beta)\n",
    "    #print(y.shape)\n",
    "    #print(x.shape)\n",
    "    #print(nSim)\n",
    "    \n",
    "    nObs = y.shape[0]\n",
    "    \n",
    "    simChoice = np.empty((nObs,nSim))\n",
    "    simChoice[:] = np.NAN\n",
    "    \n",
    "    for iSim in range(0, nSim):\n",
    "        simChoice[:,iSim] = simulateBinaryLogit(x, beta)\n",
    "    \n",
    "    simProb = simChoice.mean(axis=1)\n",
    "    \n",
    "    ll_i         = y * np.log(simProb) + (1 - y) * np.log(1 - simProb)\n",
    "    logLike      = -(ll_i.sum())\n",
    "    print(logLike)\n",
    "    return logLike\n",
    "    \n"
   ]
  },
  {
   "cell_type": "code",
   "execution_count": 133,
   "metadata": {
    "collapsed": false
   },
   "outputs": [
    {
     "name": "stdout",
     "output_type": "stream",
     "text": [
      "[ 0.05  0.05]\n",
      "(1000,)\n",
      "(1000, 2)\n",
      "200\n",
      "684.020780815\n"
     ]
    },
    {
     "data": {
      "text/plain": [
       "684.02078081502714"
      ]
     },
     "execution_count": 133,
     "metadata": {},
     "output_type": "execute_result"
    }
   ],
   "source": [
    "s = logLikeSim_binaryLogit(beta0, data[:,0], data[:,1:],200)\n",
    "\n",
    "s"
   ]
  },
  {
   "cell_type": "code",
   "execution_count": 138,
   "metadata": {
    "collapsed": false
   },
   "outputs": [
    {
     "name": "stdout",
     "output_type": "stream",
     "text": [
      "681.536883513\n",
      "681.536883513\n",
      "681.536883513\n"
     ]
    },
    {
     "data": {
      "text/plain": [
       "      fun: 681.53688351327219\n",
       " hess_inv: <2x2 LbfgsInvHessProduct with dtype=float64>\n",
       "      jac: array([ 0.,  0.])\n",
       "  message: b'CONVERGENCE: NORM_OF_PROJECTED_GRADIENT_<=_PGTOL'\n",
       "     nfev: 3\n",
       "      nit: 0\n",
       "   status: 0\n",
       "  success: True\n",
       "        x: array([ 0.05,  0.05])"
      ]
     },
     "execution_count": 138,
     "metadata": {},
     "output_type": "execute_result"
    }
   ],
   "source": [
    "beta0 = 0.05*np.ones(2)\n",
    "nSim = 1000\n",
    "\n",
    "opt.minimize(logLikeSim_binaryLogit, beta0, args=(data[:,0], data[:,1:], nSim) , method='L-BFGS-B', \\\n",
    "             options={'gtol': 1e-16})"
   ]
  },
  {
   "cell_type": "code",
   "execution_count": null,
   "metadata": {
    "collapsed": true
   },
   "outputs": [],
   "source": []
  }
 ],
 "metadata": {
  "kernelspec": {
   "display_name": "Python 3",
   "language": "python",
   "name": "python3"
  },
  "language_info": {
   "codemirror_mode": {
    "name": "ipython",
    "version": 3
   },
   "file_extension": ".py",
   "mimetype": "text/x-python",
   "name": "python",
   "nbconvert_exporter": "python",
   "pygments_lexer": "ipython3",
   "version": "3.5.1"
  }
 },
 "nbformat": 4,
 "nbformat_minor": 0
}
