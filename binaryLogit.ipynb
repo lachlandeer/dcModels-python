{
 "cells": [
  {
   "cell_type": "code",
   "execution_count": 1,
   "metadata": {
    "collapsed": true
   },
   "outputs": [],
   "source": [
    "import numpy as np\n",
    "from scipy import optimize as opt"
   ]
  },
  {
   "cell_type": "code",
   "execution_count": 9,
   "metadata": {
    "collapsed": false
   },
   "outputs": [],
   "source": [
    "# Model Primitives\n",
    "np.random.seed(1234567890)\n",
    "\n",
    "nObs = 1000\n",
    "beta = np.array([0.5, 0.5] , dtype=float)\n",
    "income= np.random.uniform(size = nObs) # draws from standard normal\n",
    "explVar = np.vstack([np.ones(nObs), income]).T"
   ]
  },
  {
   "cell_type": "code",
   "execution_count": 41,
   "metadata": {
    "collapsed": false
   },
   "outputs": [],
   "source": [
    "def simulateBinaryLogit(x, beta):\n",
    "    nObs     = x.shape[0]\n",
    "    nChoice  = 2;\n",
    "    \n",
    "    epsilon = np.random.gumbel(size = [nObs, nChoice])\n",
    "    beta_augmented = np.vstack([np.zeros(beta.shape), beta])\n",
    "    utility = x @ beta_augmented.T + epsilon\n",
    "    return np.argmax(utility, axis=1)"
   ]
  },
  {
   "cell_type": "code",
   "execution_count": 42,
   "metadata": {
    "collapsed": false
   },
   "outputs": [
    {
     "data": {
      "text/plain": [
       "array([0, 1, 1, 0, 1, 0, 1, 1, 1], dtype=int64)"
      ]
     },
     "execution_count": 42,
     "metadata": {},
     "output_type": "execute_result"
    }
   ],
   "source": [
    "choice = simulateBinaryLogit(explVar, beta)\n",
    "\n",
    "choice[1:10]"
   ]
  },
  {
   "cell_type": "code",
   "execution_count": 12,
   "metadata": {
    "collapsed": false
   },
   "outputs": [
    {
     "data": {
      "text/plain": [
       "(1000, 3)"
      ]
     },
     "execution_count": 12,
     "metadata": {},
     "output_type": "execute_result"
    }
   ],
   "source": [
    "data = np.hstack((choice.reshape(nObs, 1), explVar))\n",
    "data.shape"
   ]
  },
  {
   "cell_type": "code",
   "execution_count": 13,
   "metadata": {
    "collapsed": false
   },
   "outputs": [],
   "source": [
    "def calcLambda(x, beta):\n",
    "    prob = np.exp(x @ beta)  / (1 + np.exp(x @ beta))\n",
    "    return prob"
   ]
  },
  {
   "cell_type": "code",
   "execution_count": 110,
   "metadata": {
    "collapsed": false
   },
   "outputs": [],
   "source": [
    "def logLike_binaryLogit(beta, y, x):\n",
    "    choiceProb   = calcLambda(x, beta);\n",
    "    \n",
    "    ll_i         = y * np.log(choiceProb) + (1 - y) * np.log(1 - choiceProb);\n",
    "    logLike      = -(ll_i.sum())\n",
    "    return logLike"
   ]
  },
  {
   "cell_type": "code",
   "execution_count": 161,
   "metadata": {
    "collapsed": false
   },
   "outputs": [
    {
     "name": "stdout",
     "output_type": "stream",
     "text": [
      "beta hat is: [ 0.40157312  0.5869323 ]\n",
      "value of likelihood at beta: 633.200201176\n"
     ]
    },
    {
     "data": {
      "text/plain": [
       "      fun: 633.20020117642594\n",
       " hess_inv: <2x2 LbfgsInvHessProduct with dtype=float64>\n",
       "      jac: array([ 0.,  0.])\n",
       "  message: b'CONVERGENCE: NORM_OF_PROJECTED_GRADIENT_<=_PGTOL'\n",
       "     nfev: 30\n",
       "      nit: 8\n",
       "   status: 0\n",
       "  success: True\n",
       "        x: array([ 0.40157312,  0.5869323 ])"
      ]
     },
     "execution_count": 161,
     "metadata": {},
     "output_type": "execute_result"
    }
   ],
   "source": [
    "beta0 = np.zeros(2)\n",
    "out = opt.minimize(logLike_binaryLogit, beta0, args=(data[:,0], data[:,1:]) , method='L-BFGS-B', tol=1e-12)\n",
    "\n",
    "print('beta hat is:', out.x)\n",
    "\n",
    "print('value of likelihood at beta:', out.fun)\n",
    "\n",
    "# how to get SE's?\n",
    "out"
   ]
  },
  {
   "cell_type": "code",
   "execution_count": 155,
   "metadata": {
    "collapsed": false
   },
   "outputs": [],
   "source": [
    "# Simulated Maximum Likelihood\n",
    "\n",
    "def logLikeSim_binaryLogit(beta, y, x, nSim):\n",
    "    np.random.seed(42)\n",
    "    \n",
    "    nObs = y.shape[0]\n",
    "    \n",
    "    simChoice = np.empty((nObs,nSim))\n",
    "    simChoice[:] = np.NAN\n",
    "    \n",
    "    for iSim in range(0, nSim):\n",
    "        simChoice[:,iSim] = simulateBinaryLogit(x, beta)\n",
    "    \n",
    "    simProb = simChoice.mean(axis=1)\n",
    "    \n",
    "    ll_i         = y * np.log(simProb) + (1 - y) * np.log(1 - simProb)\n",
    "    logLike      = -(ll_i.sum())\n",
    "    return logLike\n",
    "    \n"
   ]
  },
  {
   "cell_type": "code",
   "execution_count": 186,
   "metadata": {
    "collapsed": false
   },
   "outputs": [
    {
     "name": "stderr",
     "output_type": "stream",
     "text": [
      "C:\\Users\\ldeer\\Anaconda\\lib\\site-packages\\ipykernel\\__main__.py:4: OptimizeWarning: Unknown solver options: gtol\n",
      "C:\\Users\\ldeer\\Anaconda\\lib\\site-packages\\ipykernel\\__main__.py:16: RuntimeWarning: divide by zero encountered in log\n",
      "C:\\Users\\ldeer\\Anaconda\\lib\\site-packages\\ipykernel\\__main__.py:16: RuntimeWarning: invalid value encountered in multiply\n"
     ]
    },
    {
     "name": "stdout",
     "output_type": "stream",
     "text": [
      "beta hat is: [ 0.48769872  0.44145953]\n",
      "value of likelihood at beta: 634.2116481\n"
     ]
    },
    {
     "data": {
      "text/plain": [
       "     fun: 634.21164810015466\n",
       "     jac: array([ 153.93409617,   -3.49224709,    0.        ])\n",
       " message: 'Optimization terminated successfully.'\n",
       "    nfev: 61\n",
       "     nit: 6\n",
       "    njev: 6\n",
       "  status: 0\n",
       " success: True\n",
       "       x: array([ 0.48769872,  0.44145953])"
      ]
     },
     "execution_count": 186,
     "metadata": {},
     "output_type": "execute_result"
    }
   ],
   "source": [
    "beta0 = 0.4*np.zeros(2)\n",
    "nSim = 1000\n",
    "\n",
    "out = opt.minimize(logLikeSim_binaryLogit, beta0, args=(data[:,0], data[:,1:], nSim) , method='SLSQP', \\\n",
    "             options={'gtol': 1e-4, 'eps': 1e-04, 'ftol': 1e-8})\n",
    "\n",
    "print('beta hat is:', out.x)\n",
    "\n",
    "print('value of likelihood at beta:', out.fun)\n",
    "\n",
    "# how to get SE's?\n",
    "out"
   ]
  },
  {
   "cell_type": "code",
   "execution_count": 187,
   "metadata": {
    "collapsed": false
   },
   "outputs": [
    {
     "data": {
      "text/plain": [
       "array([ 153.93409617,   -3.49224709,    0.        ])"
      ]
     },
     "execution_count": 187,
     "metadata": {},
     "output_type": "execute_result"
    }
   ],
   "source": [
    "out.jac"
   ]
  },
  {
   "cell_type": "code",
   "execution_count": 188,
   "metadata": {
    "collapsed": false
   },
   "outputs": [
    {
     "name": "stdout",
     "output_type": "stream",
     "text": [
      "Parameters:  [ 0.40157314  0.58693222]\n"
     ]
    }
   ],
   "source": [
    "## Compare to the canned logit model \n",
    "\n",
    "import statsmodels.api as sm\n",
    "\n",
    "logit_mod = sm.Logit(data[:,0], data[:,1:])\n",
    "logit_res = logit_mod.fit(disp=0)\n",
    "print('Parameters: ', logit_res.params)"
   ]
  },
  {
   "cell_type": "code",
   "execution_count": 189,
   "metadata": {
    "collapsed": false
   },
   "outputs": [
    {
     "data": {
      "text/html": [
       "<table class=\"simpletable\">\n",
       "<caption>Logit Regression Results</caption>\n",
       "<tr>\n",
       "  <th>Dep. Variable:</th>         <td>y</td>        <th>  No. Observations:  </th>  <td>  1000</td> \n",
       "</tr>\n",
       "<tr>\n",
       "  <th>Model:</th>               <td>Logit</td>      <th>  Df Residuals:      </th>  <td>   998</td> \n",
       "</tr>\n",
       "<tr>\n",
       "  <th>Method:</th>               <td>MLE</td>       <th>  Df Model:          </th>  <td>     1</td> \n",
       "</tr>\n",
       "<tr>\n",
       "  <th>Date:</th>          <td>Fri, 14 Apr 2017</td> <th>  Pseudo R-squ.:     </th> <td>0.004845</td>\n",
       "</tr>\n",
       "<tr>\n",
       "  <th>Time:</th>              <td>07:50:16</td>     <th>  Log-Likelihood:    </th> <td> -633.20</td>\n",
       "</tr>\n",
       "<tr>\n",
       "  <th>converged:</th>           <td>True</td>       <th>  LL-Null:           </th> <td> -636.28</td>\n",
       "</tr>\n",
       "<tr>\n",
       "  <th> </th>                      <td> </td>        <th>  LLR p-value:       </th>  <td>0.01303</td>\n",
       "</tr>\n",
       "</table>\n",
       "<table class=\"simpletable\">\n",
       "<tr>\n",
       "    <td></td>       <th>coef</th>     <th>std err</th>      <th>z</th>      <th>P>|z|</th> <th>[95.0% Conf. Int.]</th> \n",
       "</tr>\n",
       "<tr>\n",
       "  <th>const</th> <td>    0.4016</td> <td>    0.135</td> <td>    2.985</td> <td> 0.003</td> <td>    0.138     0.665</td>\n",
       "</tr>\n",
       "<tr>\n",
       "  <th>x1</th>    <td>    0.5869</td> <td>    0.237</td> <td>    2.477</td> <td> 0.013</td> <td>    0.122     1.051</td>\n",
       "</tr>\n",
       "</table>"
      ],
      "text/plain": [
       "<class 'statsmodels.iolib.summary.Summary'>\n",
       "\"\"\"\n",
       "                           Logit Regression Results                           \n",
       "==============================================================================\n",
       "Dep. Variable:                      y   No. Observations:                 1000\n",
       "Model:                          Logit   Df Residuals:                      998\n",
       "Method:                           MLE   Df Model:                            1\n",
       "Date:                Fri, 14 Apr 2017   Pseudo R-squ.:                0.004845\n",
       "Time:                        07:50:16   Log-Likelihood:                -633.20\n",
       "converged:                       True   LL-Null:                       -636.28\n",
       "                                        LLR p-value:                   0.01303\n",
       "==============================================================================\n",
       "                 coef    std err          z      P>|z|      [95.0% Conf. Int.]\n",
       "------------------------------------------------------------------------------\n",
       "const          0.4016      0.135      2.985      0.003         0.138     0.665\n",
       "x1             0.5869      0.237      2.477      0.013         0.122     1.051\n",
       "==============================================================================\n",
       "\"\"\""
      ]
     },
     "execution_count": 189,
     "metadata": {},
     "output_type": "execute_result"
    }
   ],
   "source": [
    "logit_res.summary()"
   ]
  },
  {
   "cell_type": "code",
   "execution_count": null,
   "metadata": {
    "collapsed": true
   },
   "outputs": [],
   "source": []
  }
 ],
 "metadata": {
  "kernelspec": {
   "display_name": "Python 3",
   "language": "python",
   "name": "python3"
  },
  "language_info": {
   "codemirror_mode": {
    "name": "ipython",
    "version": 3
   },
   "file_extension": ".py",
   "mimetype": "text/x-python",
   "name": "python",
   "nbconvert_exporter": "python",
   "pygments_lexer": "ipython3",
   "version": "3.5.1"
  }
 },
 "nbformat": 4,
 "nbformat_minor": 0
}
