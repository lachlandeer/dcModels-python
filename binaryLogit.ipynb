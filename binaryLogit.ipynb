{
 "cells": [
  {
   "cell_type": "code",
   "execution_count": 1,
   "metadata": {
    "collapsed": true
   },
   "outputs": [],
   "source": [
    "import numpy as np"
   ]
  },
  {
   "cell_type": "code",
   "execution_count": 2,
   "metadata": {
    "collapsed": false
   },
   "outputs": [],
   "source": [
    "# Model Primitives\n",
    "np.random.seed(1234567890)\n",
    "\n",
    "nObs = 1000\n",
    "beta = np.array([0.5, 0.3] , dtype=float)\n",
    "income= np.random.normal(size = nObs) # draws from standard normal\n",
    "explVar = np.vstack([np.ones(nObs), income]).T"
   ]
  },
  {
   "cell_type": "code",
   "execution_count": 3,
   "metadata": {
    "collapsed": false
   },
   "outputs": [],
   "source": [
    "def simulateBinaryLogit(x, beta):\n",
    "    nObs     = x.shape[0]\n",
    "    nChoice  = 2;\n",
    "    \n",
    "    epsilon = np.random.gumbel(size = [nObs, nChoice])\n",
    "    beta_augmented = np.vstack([beta, np.zeros(beta.shape)])\n",
    "    \n",
    "    utility = x @ beta_augmented + epsilon\n",
    "    \n",
    "    return np.argmax(utility, axis=1)"
   ]
  },
  {
   "cell_type": "code",
   "execution_count": 4,
   "metadata": {
    "collapsed": false
   },
   "outputs": [],
   "source": [
    "choice = simulateBinaryLogit(explVar, beta)"
   ]
  },
  {
   "cell_type": "code",
   "execution_count": 5,
   "metadata": {
    "collapsed": false
   },
   "outputs": [
    {
     "data": {
      "text/plain": [
       "(1000, 3)"
      ]
     },
     "execution_count": 5,
     "metadata": {},
     "output_type": "execute_result"
    }
   ],
   "source": [
    "data = np.hstack((choice.reshape(nObs, 1), explVar))\n",
    "data.shape"
   ]
  },
  {
   "cell_type": "code",
   "execution_count": null,
   "metadata": {
    "collapsed": true
   },
   "outputs": [],
   "source": []
  }
 ],
 "metadata": {
  "kernelspec": {
   "display_name": "Python 3",
   "language": "python",
   "name": "python3"
  },
  "language_info": {
   "codemirror_mode": {
    "name": "ipython",
    "version": 3
   },
   "file_extension": ".py",
   "mimetype": "text/x-python",
   "name": "python",
   "nbconvert_exporter": "python",
   "pygments_lexer": "ipython3",
   "version": "3.5.1"
  }
 },
 "nbformat": 4,
 "nbformat_minor": 0
}
