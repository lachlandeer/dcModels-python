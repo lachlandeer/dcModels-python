{
 "cells": [
  {
   "cell_type": "markdown",
   "metadata": {
    "collapsed": true
   },
   "source": [
    "# Estimating Binary Logit Models with SciPy Optimize and Generic Likelihood Model\n",
    "\n",
    "Author: Lachlan Deer, April 2017"
   ]
  },
  {
   "cell_type": "code",
   "execution_count": 1,
   "metadata": {
    "collapsed": true
   },
   "outputs": [],
   "source": [
    "import numpy as np\n",
    "from scipy import optimize as opt"
   ]
  },
  {
   "cell_type": "markdown",
   "metadata": {},
   "source": [
    "## Simulate Data"
   ]
  },
  {
   "cell_type": "code",
   "execution_count": 2,
   "metadata": {
    "collapsed": false
   },
   "outputs": [],
   "source": [
    "# Model Primitives\n",
    "np.random.seed(1234567890)\n",
    "\n",
    "nObs = 10000\n",
    "beta = np.array([0.5, 0.5] , dtype=float)\n",
    "income= np.random.uniform(size = nObs) # draws from standard normal\n",
    "explVar = np.vstack([np.ones(nObs), income]).T"
   ]
  },
  {
   "cell_type": "code",
   "execution_count": 3,
   "metadata": {
    "collapsed": false
   },
   "outputs": [],
   "source": [
    "def simulateBinaryLogit(x, beta):\n",
    "    nObs     = x.shape[0]\n",
    "    nChoice  = 2;\n",
    "    \n",
    "    epsilon = np.random.gumbel(size = [nObs, nChoice])\n",
    "    beta_augmented = np.vstack([np.zeros(beta.shape), beta])\n",
    "    utility = x @ beta_augmented.T + epsilon\n",
    "    return np.argmax(utility, axis=1)"
   ]
  },
  {
   "cell_type": "code",
   "execution_count": 4,
   "metadata": {
    "collapsed": false
   },
   "outputs": [
    {
     "data": {
      "text/plain": [
       "array([0, 1, 1, 1, 1, 0, 1, 1, 1], dtype=int64)"
      ]
     },
     "execution_count": 4,
     "metadata": {},
     "output_type": "execute_result"
    }
   ],
   "source": [
    "# verify choice data looks like it should\n",
    "choice = simulateBinaryLogit(explVar, beta)\n",
    "choice[1:10]"
   ]
  },
  {
   "cell_type": "code",
   "execution_count": 5,
   "metadata": {
    "collapsed": false
   },
   "outputs": [
    {
     "data": {
      "text/plain": [
       "(10000, 3)"
      ]
     },
     "execution_count": 5,
     "metadata": {},
     "output_type": "execute_result"
    }
   ],
   "source": [
    "data = np.hstack((choice.reshape(nObs, 1), explVar))\n",
    "data.shape"
   ]
  },
  {
   "cell_type": "markdown",
   "metadata": {},
   "source": [
    "## Defining Functions for Optimization"
   ]
  },
  {
   "cell_type": "code",
   "execution_count": 6,
   "metadata": {
    "collapsed": false
   },
   "outputs": [],
   "source": [
    "from scipy.stats import logistic\n",
    "\n",
    "def logLike_binaryLogit(beta, y, x):\n",
    "\n",
    "    choiceProb   = logistic.cdf(x @ beta);\n",
    "    \n",
    "    ll_i         = np.log( (y==1) * (choiceProb) + (y==0) * (1 - choiceProb))\n",
    "    logLike      = -(ll_i.sum())\n",
    "    return logLike"
   ]
  },
  {
   "cell_type": "markdown",
   "metadata": {},
   "source": [
    "## Running the Optimization"
   ]
  },
  {
   "cell_type": "code",
   "execution_count": 7,
   "metadata": {
    "collapsed": false
   },
   "outputs": [
    {
     "name": "stdout",
     "output_type": "stream",
     "text": [
      "beta hat is: [ 0.58517464  0.40357804]\n",
      "value of likelihood at beta: 6204.11675398\n"
     ]
    },
    {
     "data": {
      "text/plain": [
       "      fun: 6204.1167539810767\n",
       " hess_inv: <2x2 LbfgsInvHessProduct with dtype=float64>\n",
       "      jac: array([ -9.09494702e-05,  -9.09494702e-05])\n",
       "  message: b'CONVERGENCE: REL_REDUCTION_OF_F_<=_FACTR*EPSMCH'\n",
       "     nfev: 36\n",
       "      nit: 11\n",
       "   status: 0\n",
       "  success: True\n",
       "        x: array([ 0.58517464,  0.40357804])"
      ]
     },
     "execution_count": 7,
     "metadata": {},
     "output_type": "execute_result"
    }
   ],
   "source": [
    "beta0 = np.zeros(2)\n",
    "out = opt.minimize(logLike_binaryLogit, beta0, args=(data[:,0], data[:,1:]) , method='L-BFGS-B', tol=1e-12)\n",
    "\n",
    "print('beta hat is:', out.x)\n",
    "\n",
    "print('value of likelihood at beta:', out.fun)\n",
    "\n",
    "# how to get SE's?\n",
    "out"
   ]
  },
  {
   "cell_type": "code",
   "execution_count": null,
   "metadata": {
    "collapsed": false
   },
   "outputs": [],
   "source": [
    "# get standard errors from inverse hessian (approximate)\n",
    "np.sqrt(np.diagonal(out.hess_inv.todense()))"
   ]
  },
  {
   "cell_type": "code",
   "execution_count": null,
   "metadata": {
    "collapsed": false
   },
   "outputs": [],
   "source": [
    "import statsmodels.tools.numdiff as smt\n"
   ]
  },
  {
   "cell_type": "code",
   "execution_count": null,
   "metadata": {
    "collapsed": false
   },
   "outputs": [],
   "source": [
    "#Get inverse hessian\n",
    "b_estimates = out.x\n",
    "hessian = smt.approx_hess3(b_estimates, logLike_binaryLogit, args=(data[:,0], data[:,1:]))\n",
    "invHessian = np.linalg.inv(hessian)\n",
    "\n",
    "print(invHessian)\n",
    "np.sqrt(np.diagonal(invHessian))"
   ]
  },
  {
   "cell_type": "markdown",
   "metadata": {},
   "source": [
    "## An Intro to Simulated Maximum Likelihood"
   ]
  },
  {
   "cell_type": "code",
   "execution_count": 8,
   "metadata": {
    "collapsed": false
   },
   "outputs": [],
   "source": [
    "# Simulated Maximum Likelihood\n",
    "\n",
    "def logLikeSim_binaryLogit(beta, y, x, nSim):\n",
    "    np.random.seed(42)\n",
    "    \n",
    "    nObs = y.shape[0]\n",
    "    \n",
    "    simChoice = np.empty((nObs,nSim))\n",
    "    simChoice[:] = np.NAN\n",
    "    \n",
    "    for iSim in range(0, nSim):\n",
    "        simChoice[:,iSim] = simulateBinaryLogit(x, beta)\n",
    "    \n",
    "    simProb = simChoice.mean(axis=1)\n",
    "    \n",
    "    ll_i         = np.log((y==1) * simProb + (y==0) *(1 - simProb))\n",
    "    logLike      = -(ll_i.sum())\n",
    "    return logLike\n",
    "    \n"
   ]
  },
  {
   "cell_type": "code",
   "execution_count": 9,
   "metadata": {
    "collapsed": false
   },
   "outputs": [
    {
     "name": "stderr",
     "output_type": "stream",
     "text": [
      "C:\\Users\\ldeer\\Anaconda\\lib\\site-packages\\ipykernel\\__main__.py:16: RuntimeWarning: divide by zero encountered in log\n",
      "C:\\Users\\ldeer\\Anaconda\\lib\\site-packages\\scipy\\optimize\\optimize.py:562: RuntimeWarning: invalid value encountered in double_scalars\n",
      "  grad[k] = (f(*((xk + d,) + args)) - f0) / d[k]\n"
     ]
    },
    {
     "name": "stdout",
     "output_type": "stream",
     "text": [
      "beta hat is: [ 0.39999826  0.40000022]\n",
      "value of likelihood at beta: 6245.86089205\n"
     ]
    },
    {
     "data": {
      "text/plain": [
       "      fun: 6245.8608920466713\n",
       " hess_inv: <2x2 LbfgsInvHessProduct with dtype=float64>\n",
       "      jac: array([ 251.74474421,   -2.81479612])\n",
       "  message: b'CONVERGENCE: REL_REDUCTION_OF_F_<=_FACTR*EPSMCH'\n",
       "     nfev: 45\n",
       "      nit: 2\n",
       "   status: 0\n",
       "  success: True\n",
       "        x: array([ 0.39999826,  0.40000022])"
      ]
     },
     "execution_count": 9,
     "metadata": {},
     "output_type": "execute_result"
    }
   ],
   "source": [
    "beta0 = 0.4*np.ones(2)\n",
    "nSim = 1000\n",
    "\n",
    "out = opt.minimize(logLikeSim_binaryLogit, beta0, args=(data[:,0], data[:,1:], nSim) , method='L-BFGS-B', \\\n",
    "             options={'gtol': 1e-5, 'eps': 1e-05, 'ftol': 1e-8})\n",
    "\n",
    "print('beta hat is:', out.x)\n",
    "\n",
    "print('value of likelihood at beta:', out.fun)\n",
    "\n",
    "# how to get SE's?\n",
    "out"
   ]
  },
  {
   "cell_type": "code",
   "execution_count": null,
   "metadata": {
    "collapsed": false
   },
   "outputs": [],
   "source": [
    "#Get inverse hessian - this is probably wrong, I think we need to inflate the std errors by a something proportional nSim\n",
    "b_estimates = out.x\n",
    "hessian = smt.approx_hess3(b_estimates, logLikeSim_binaryLogit, args=(data[:,0], data[:,1:], nSim))\n",
    "invHessian = np.linalg.inv(hessian)\n",
    "\n",
    "print(invHessian)\n",
    "np.sqrt(np.diagonal(invHessian))"
   ]
  },
  {
   "cell_type": "markdown",
   "metadata": {},
   "source": [
    "## Comparing SciPy Results to the Canned Logit Estimator"
   ]
  },
  {
   "cell_type": "code",
   "execution_count": null,
   "metadata": {
    "collapsed": false
   },
   "outputs": [],
   "source": [
    "## Compare to the canned logit model \n",
    "\n",
    "import statsmodels.api as sm\n",
    "\n",
    "logit_mod = sm.Logit(data[:,0], data[:,1:])\n",
    "logit_res = logit_mod.fit(disp=0)\n",
    "print('Parameters: ', logit_res.params)"
   ]
  },
  {
   "cell_type": "code",
   "execution_count": null,
   "metadata": {
    "collapsed": false
   },
   "outputs": [],
   "source": [
    "logit_res.summary()"
   ]
  },
  {
   "cell_type": "markdown",
   "metadata": {
    "collapsed": true
   },
   "source": [
    "## Maximum Likelihood Estimations using the GenericLikelihoodModel Class"
   ]
  },
  {
   "cell_type": "code",
   "execution_count": null,
   "metadata": {
    "collapsed": true
   },
   "outputs": [],
   "source": [
    "from statsmodels.base.model import GenericLikelihoodModel\n"
   ]
  },
  {
   "cell_type": "markdown",
   "metadata": {},
   "source": [
    "### Standard Likelihood Problem"
   ]
  },
  {
   "cell_type": "code",
   "execution_count": null,
   "metadata": {
    "collapsed": false
   },
   "outputs": [],
   "source": [
    "class MyLogit(GenericLikelihoodModel):\n",
    "    def loglike(self, params):\n",
    "        exog = self.exog\n",
    "        endog = self.endog\n",
    "        \n",
    "        choiceProb   = logistic.cdf(self.exog @ params);\n",
    "        ll_i         = np.log((endog==1) * choiceProb + (endog==0) * (1 - choiceProb))\n",
    "        return ll_i.sum()"
   ]
  },
  {
   "cell_type": "code",
   "execution_count": null,
   "metadata": {
    "collapsed": false
   },
   "outputs": [],
   "source": [
    "sm_logit_manual = MyLogit(data[:,0], data[:,1:]).fit()\n",
    "print(sm_logit_manual.summary())"
   ]
  },
  {
   "cell_type": "markdown",
   "metadata": {},
   "source": [
    "### Example with Simulated ML"
   ]
  },
  {
   "cell_type": "code",
   "execution_count": null,
   "metadata": {
    "collapsed": true
   },
   "outputs": [],
   "source": [
    "class MySimulatedLogit(GenericLikelihoodModel):\n",
    "    def loglike(self, params):\n",
    "        exog = self.exog\n",
    "        endog = self.endog\n",
    "        \n",
    "        np.random.seed(42)\n",
    "        nSim = 1000\n",
    "    \n",
    "        nObs = endog.shape[0]\n",
    "    \n",
    "        simChoice = np.empty((nObs,nSim))\n",
    "        simChoice[:] = np.NAN\n",
    "\n",
    "        for iSim in range(0, nSim):\n",
    "            simChoice[:,iSim] = simulateBinaryLogit(exog, params)\n",
    "\n",
    "        simProb = simChoice.mean(axis=1)\n",
    "        \n",
    "        ll_i         = np.log((endog==1) * simProb + (endog==0)*(1 - simProb));\n",
    "        return ll_i.sum()"
   ]
  },
  {
   "cell_type": "code",
   "execution_count": null,
   "metadata": {
    "collapsed": false
   },
   "outputs": [],
   "source": [
    "# very sensitive to starting values! (flat likelihood?)\n",
    "\n",
    "sm_logit_manual = MySimulatedLogit(data[:,0], data[:,1:]).fit(start_params=0.6*np.ones(2))\n",
    "print(sm_logit_manual.summary())"
   ]
  },
  {
   "cell_type": "code",
   "execution_count": null,
   "metadata": {
    "collapsed": true
   },
   "outputs": [],
   "source": []
  }
 ],
 "metadata": {
  "kernelspec": {
   "display_name": "Python 3",
   "language": "python",
   "name": "python3"
  },
  "language_info": {
   "codemirror_mode": {
    "name": "ipython",
    "version": 3
   },
   "file_extension": ".py",
   "mimetype": "text/x-python",
   "name": "python",
   "nbconvert_exporter": "python",
   "pygments_lexer": "ipython3",
   "version": "3.5.1"
  }
 },
 "nbformat": 4,
 "nbformat_minor": 0
}
