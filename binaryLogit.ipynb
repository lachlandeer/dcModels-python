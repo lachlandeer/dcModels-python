{
 "cells": [
  {
   "cell_type": "markdown",
   "metadata": {
    "collapsed": true
   },
   "source": [
    "# Estimating Binary Logit Models with SciPy Optimize and Generic Likelihood Model\n",
    "\n",
    "Author: Lachlan Deer, April 2017"
   ]
  },
  {
   "cell_type": "code",
   "execution_count": null,
   "metadata": {
    "collapsed": true
   },
   "outputs": [],
   "source": [
    "import numpy as np\n",
    "from scipy import optimize as opt"
   ]
  },
  {
   "cell_type": "markdown",
   "metadata": {},
   "source": [
    "## Simulate Data"
   ]
  },
  {
   "cell_type": "code",
   "execution_count": 2,
   "metadata": {
    "collapsed": false
   },
   "outputs": [],
   "source": [
    "# Model Primitives\n",
    "np.random.seed(1234567890)\n",
    "\n",
    "nObs = 1000\n",
    "beta = np.array([0.5, 0.5] , dtype=float)\n",
    "income= np.random.uniform(size = nObs) # draws from standard normal\n",
    "explVar = np.vstack([np.ones(nObs), income]).T"
   ]
  },
  {
   "cell_type": "code",
   "execution_count": 3,
   "metadata": {
    "collapsed": false
   },
   "outputs": [],
   "source": [
    "def simulateBinaryLogit(x, beta):\n",
    "    nObs     = x.shape[0]\n",
    "    nChoice  = 2;\n",
    "    \n",
    "    epsilon = np.random.gumbel(size = [nObs, nChoice])\n",
    "    beta_augmented = np.vstack([np.zeros(beta.shape), beta])\n",
    "    utility = x @ beta_augmented.T + epsilon\n",
    "    return np.argmax(utility, axis=1)"
   ]
  },
  {
   "cell_type": "code",
   "execution_count": 4,
   "metadata": {
    "collapsed": false
   },
   "outputs": [
    {
     "data": {
      "text/plain": [
       "array([1, 0, 1, 1, 0, 1, 0, 0, 1], dtype=int64)"
      ]
     },
     "execution_count": 4,
     "metadata": {},
     "output_type": "execute_result"
    }
   ],
   "source": [
    "# verify choice data looks like it should\n",
    "choice = simulateBinaryLogit(explVar, beta)\n",
    "choice[1:10]"
   ]
  },
  {
   "cell_type": "code",
   "execution_count": 5,
   "metadata": {
    "collapsed": false
   },
   "outputs": [
    {
     "data": {
      "text/plain": [
       "(1000, 3)"
      ]
     },
     "execution_count": 5,
     "metadata": {},
     "output_type": "execute_result"
    }
   ],
   "source": [
    "data = np.hstack((choice.reshape(nObs, 1), explVar))\n",
    "data.shape"
   ]
  },
  {
   "cell_type": "markdown",
   "metadata": {},
   "source": [
    "## Defining Functions for Optimization"
   ]
  },
  {
   "cell_type": "code",
   "execution_count": 6,
   "metadata": {
    "collapsed": false
   },
   "outputs": [],
   "source": [
    "def calcLambda(x, beta):\n",
    "    prob = np.exp(x @ beta)  / (1 + np.exp(x @ beta))\n",
    "    return prob"
   ]
  },
  {
   "cell_type": "code",
   "execution_count": 37,
   "metadata": {
    "collapsed": false
   },
   "outputs": [],
   "source": [
    "from scipy.stats import logistic\n",
    "\n",
    "def logLike_binaryLogit(beta, y, x):\n",
    "\n",
    "    choiceProb   = logistic.cdf(x @ beta);\n",
    "    \n",
    "    ll_i         = np.log( (y==1) * (choiceProb) + (y==0) * (1 - choiceProb))\n",
    "    logLike      = -(ll_i.sum())\n",
    "    return logLike"
   ]
  },
  {
   "cell_type": "markdown",
   "metadata": {},
   "source": [
    "## Running the Optimization"
   ]
  },
  {
   "cell_type": "code",
   "execution_count": 38,
   "metadata": {
    "collapsed": false
   },
   "outputs": [
    {
     "name": "stdout",
     "output_type": "stream",
     "text": [
      "beta hat is: [ 0.40157311  0.58693221]\n",
      "value of likelihood at beta: 633.200201176\n"
     ]
    },
    {
     "data": {
      "text/plain": [
       "      fun: 633.20020117642594\n",
       " hess_inv: <2x2 LbfgsInvHessProduct with dtype=float64>\n",
       "      jac: array([ 0.,  0.])\n",
       "  message: b'CONVERGENCE: NORM_OF_PROJECTED_GRADIENT_<=_PGTOL'\n",
       "     nfev: 30\n",
       "      nit: 8\n",
       "   status: 0\n",
       "  success: True\n",
       "        x: array([ 0.40157311,  0.58693221])"
      ]
     },
     "execution_count": 38,
     "metadata": {},
     "output_type": "execute_result"
    }
   ],
   "source": [
    "beta0 = np.zeros(2)\n",
    "out = opt.minimize(logLike_binaryLogit, beta0, args=(data[:,0], data[:,1:]) , method='L-BFGS-B', tol=1e-12)\n",
    "\n",
    "print('beta hat is:', out.x)\n",
    "\n",
    "print('value of likelihood at beta:', out.fun)\n",
    "\n",
    "# how to get SE's?\n",
    "out"
   ]
  },
  {
   "cell_type": "code",
   "execution_count": 16,
   "metadata": {
    "collapsed": false
   },
   "outputs": [
    {
     "data": {
      "text/plain": [
       "array([ 0.15264816,  0.27145198])"
      ]
     },
     "execution_count": 16,
     "metadata": {},
     "output_type": "execute_result"
    }
   ],
   "source": [
    "# get standard errors from inverse hessian (approximate)\n",
    "np.sqrt(np.diagonal(out.hess_inv.todense()))"
   ]
  },
  {
   "cell_type": "code",
   "execution_count": 28,
   "metadata": {
    "collapsed": false
   },
   "outputs": [
    {
     "ename": "NameError",
     "evalue": "name 'Hessian' is not defined",
     "output_type": "error",
     "traceback": [
      "\u001b[1;31m---------------------------------------------------------------------------\u001b[0m",
      "\u001b[1;31mNameError\u001b[0m                                 Traceback (most recent call last)",
      "\u001b[1;32m<ipython-input-28-20c8ddd7b8e3>\u001b[0m in \u001b[0;36m<module>\u001b[1;34m()\u001b[0m\n\u001b[0;32m      5\u001b[0m \u001b[0mb_estimates\u001b[0m \u001b[1;33m=\u001b[0m \u001b[0mout\u001b[0m\u001b[1;33m.\u001b[0m\u001b[0mx\u001b[0m\u001b[1;33m\u001b[0m\u001b[0m\n\u001b[0;32m      6\u001b[0m \u001b[0mhessian\u001b[0m \u001b[1;33m=\u001b[0m \u001b[0msmt\u001b[0m\u001b[1;33m.\u001b[0m\u001b[0mapprox_hess3\u001b[0m\u001b[1;33m(\u001b[0m\u001b[0mb_estimates\u001b[0m\u001b[1;33m,\u001b[0m \u001b[0mlogLike_binaryLogit\u001b[0m\u001b[1;33m,\u001b[0m \u001b[0margs\u001b[0m\u001b[1;33m=\u001b[0m\u001b[1;33m(\u001b[0m\u001b[0mdata\u001b[0m\u001b[1;33m[\u001b[0m\u001b[1;33m:\u001b[0m\u001b[1;33m,\u001b[0m\u001b[1;36m0\u001b[0m\u001b[1;33m]\u001b[0m\u001b[1;33m,\u001b[0m \u001b[0mdata\u001b[0m\u001b[1;33m[\u001b[0m\u001b[1;33m:\u001b[0m\u001b[1;33m,\u001b[0m\u001b[1;36m1\u001b[0m\u001b[1;33m:\u001b[0m\u001b[1;33m]\u001b[0m\u001b[1;33m)\u001b[0m\u001b[1;33m)\u001b[0m\u001b[1;33m\u001b[0m\u001b[0m\n\u001b[1;32m----> 7\u001b[1;33m \u001b[0minvHessian\u001b[0m \u001b[1;33m=\u001b[0m \u001b[0mnp\u001b[0m\u001b[1;33m.\u001b[0m\u001b[0mlinalg\u001b[0m\u001b[1;33m.\u001b[0m\u001b[0minv\u001b[0m\u001b[1;33m(\u001b[0m\u001b[0mHessian\u001b[0m\u001b[1;33m)\u001b[0m\u001b[1;33m\u001b[0m\u001b[0m\n\u001b[0m",
      "\u001b[1;31mNameError\u001b[0m: name 'Hessian' is not defined"
     ]
    }
   ],
   "source": [
    "import statsmodels.tools.numdiff as smt\n",
    "import scipy as sc\n"
   ]
  },
  {
   "cell_type": "code",
   "execution_count": 32,
   "metadata": {
    "collapsed": false
   },
   "outputs": [
    {
     "name": "stdout",
     "output_type": "stream",
     "text": [
      "[[ 0.01809698 -0.02760171]\n",
      " [-0.02760171  0.05615583]]\n"
     ]
    },
    {
     "data": {
      "text/plain": [
       "array([ 0.134525  ,  0.23697222])"
      ]
     },
     "execution_count": 32,
     "metadata": {},
     "output_type": "execute_result"
    }
   ],
   "source": [
    "#Get inverse hessian\n",
    "b_estimates = out.x\n",
    "hessian = smt.approx_hess3(b_estimates, logLike_binaryLogit, args=(data[:,0], data[:,1:]))\n",
    "invHessian = np.linalg.inv(hessian)\n",
    "\n",
    "print(invHessian)\n",
    "np.sqrt(np.diagonal(invHessian))"
   ]
  },
  {
   "cell_type": "markdown",
   "metadata": {},
   "source": [
    "## An Intro to Simulated Maximum Likelihood"
   ]
  },
  {
   "cell_type": "code",
   "execution_count": 55,
   "metadata": {
    "collapsed": false
   },
   "outputs": [],
   "source": [
    "# Simulated Maximum Likelihood\n",
    "\n",
    "def logLikeSim_binaryLogit(beta, y, x, nSim):\n",
    "    np.random.seed(42)\n",
    "    \n",
    "    nObs = y.shape[0]\n",
    "    \n",
    "    simChoice = np.empty((nObs,nSim))\n",
    "    simChoice[:] = np.NAN\n",
    "    \n",
    "    for iSim in range(0, nSim):\n",
    "        simChoice[:,iSim] = simulateBinaryLogit(x, beta)\n",
    "    \n",
    "    simProb = simChoice.mean(axis=1)\n",
    "    \n",
    "    ll_i         = np.log((y==1) * simProb + (y==0) *(1 - simProb))\n",
    "    logLike      = -(ll_i.sum())\n",
    "    return logLike\n",
    "    \n"
   ]
  },
  {
   "cell_type": "code",
   "execution_count": 56,
   "metadata": {
    "collapsed": false
   },
   "outputs": [
    {
     "name": "stdout",
     "output_type": "stream",
     "text": [
      "beta hat is: [ 0.40980455  0.47007518]\n",
      "value of likelihood at beta: 634.525545482\n"
     ]
    },
    {
     "data": {
      "text/plain": [
       "      fun: 634.52554548208991\n",
       " hess_inv: <2x2 LbfgsInvHessProduct with dtype=float64>\n",
       "      jac: array([ 133.15737038,   98.31582826])\n",
       "  message: b'CONVERGENCE: REL_REDUCTION_OF_F_<=_FACTR*EPSMCH'\n",
       "     nfev: 204\n",
       "      nit: 8\n",
       "   status: 0\n",
       "  success: True\n",
       "        x: array([ 0.40980455,  0.47007518])"
      ]
     },
     "execution_count": 56,
     "metadata": {},
     "output_type": "execute_result"
    }
   ],
   "source": [
    "beta0 = 0.4*np.ones(2)\n",
    "nSim = 1000\n",
    "\n",
    "out = opt.minimize(logLikeSim_binaryLogit, beta0, args=(data[:,0], data[:,1:], nSim) , method='L-BFGS-B', \\\n",
    "             options={'gtol': 1e-4, 'eps': 1e-04, 'ftol': 1e-8})\n",
    "\n",
    "print('beta hat is:', out.x)\n",
    "\n",
    "print('value of likelihood at beta:', out.fun)\n",
    "\n",
    "# how to get SE's?\n",
    "out"
   ]
  },
  {
   "cell_type": "code",
   "execution_count": 42,
   "metadata": {
    "collapsed": false
   },
   "outputs": [
    {
     "name": "stdout",
     "output_type": "stream",
     "text": [
      "[[  5.73561694e-06  -3.58605833e-06]\n",
      " [ -3.58605833e-06   2.81700615e-06]]\n"
     ]
    },
    {
     "data": {
      "text/plain": [
       "array([ 0.00239491,  0.00167839])"
      ]
     },
     "execution_count": 42,
     "metadata": {},
     "output_type": "execute_result"
    }
   ],
   "source": [
    "#Get inverse hessian - this is probably wrong\n",
    "b_estimates = out.x\n",
    "hessian = smt.approx_hess3(b_estimates, logLikeSim_binaryLogit, args=(data[:,0], data[:,1:], nSim))\n",
    "invHessian = np.linalg.inv(hessian)\n",
    "\n",
    "print(invHessian)\n",
    "np.sqrt(np.diagonal(invHessian))"
   ]
  },
  {
   "cell_type": "markdown",
   "metadata": {},
   "source": [
    "## Comparing SciPy Results to the Canned Logit Estimator"
   ]
  },
  {
   "cell_type": "code",
   "execution_count": 188,
   "metadata": {
    "collapsed": false
   },
   "outputs": [
    {
     "name": "stdout",
     "output_type": "stream",
     "text": [
      "Parameters:  [ 0.40157314  0.58693222]\n"
     ]
    }
   ],
   "source": [
    "## Compare to the canned logit model \n",
    "\n",
    "import statsmodels.api as sm\n",
    "\n",
    "logit_mod = sm.Logit(data[:,0], data[:,1:])\n",
    "logit_res = logit_mod.fit(disp=0)\n",
    "print('Parameters: ', logit_res.params)"
   ]
  },
  {
   "cell_type": "code",
   "execution_count": 189,
   "metadata": {
    "collapsed": false
   },
   "outputs": [
    {
     "data": {
      "text/html": [
       "<table class=\"simpletable\">\n",
       "<caption>Logit Regression Results</caption>\n",
       "<tr>\n",
       "  <th>Dep. Variable:</th>         <td>y</td>        <th>  No. Observations:  </th>  <td>  1000</td> \n",
       "</tr>\n",
       "<tr>\n",
       "  <th>Model:</th>               <td>Logit</td>      <th>  Df Residuals:      </th>  <td>   998</td> \n",
       "</tr>\n",
       "<tr>\n",
       "  <th>Method:</th>               <td>MLE</td>       <th>  Df Model:          </th>  <td>     1</td> \n",
       "</tr>\n",
       "<tr>\n",
       "  <th>Date:</th>          <td>Fri, 14 Apr 2017</td> <th>  Pseudo R-squ.:     </th> <td>0.004845</td>\n",
       "</tr>\n",
       "<tr>\n",
       "  <th>Time:</th>              <td>07:50:16</td>     <th>  Log-Likelihood:    </th> <td> -633.20</td>\n",
       "</tr>\n",
       "<tr>\n",
       "  <th>converged:</th>           <td>True</td>       <th>  LL-Null:           </th> <td> -636.28</td>\n",
       "</tr>\n",
       "<tr>\n",
       "  <th> </th>                      <td> </td>        <th>  LLR p-value:       </th>  <td>0.01303</td>\n",
       "</tr>\n",
       "</table>\n",
       "<table class=\"simpletable\">\n",
       "<tr>\n",
       "    <td></td>       <th>coef</th>     <th>std err</th>      <th>z</th>      <th>P>|z|</th> <th>[95.0% Conf. Int.]</th> \n",
       "</tr>\n",
       "<tr>\n",
       "  <th>const</th> <td>    0.4016</td> <td>    0.135</td> <td>    2.985</td> <td> 0.003</td> <td>    0.138     0.665</td>\n",
       "</tr>\n",
       "<tr>\n",
       "  <th>x1</th>    <td>    0.5869</td> <td>    0.237</td> <td>    2.477</td> <td> 0.013</td> <td>    0.122     1.051</td>\n",
       "</tr>\n",
       "</table>"
      ],
      "text/plain": [
       "<class 'statsmodels.iolib.summary.Summary'>\n",
       "\"\"\"\n",
       "                           Logit Regression Results                           \n",
       "==============================================================================\n",
       "Dep. Variable:                      y   No. Observations:                 1000\n",
       "Model:                          Logit   Df Residuals:                      998\n",
       "Method:                           MLE   Df Model:                            1\n",
       "Date:                Fri, 14 Apr 2017   Pseudo R-squ.:                0.004845\n",
       "Time:                        07:50:16   Log-Likelihood:                -633.20\n",
       "converged:                       True   LL-Null:                       -636.28\n",
       "                                        LLR p-value:                   0.01303\n",
       "==============================================================================\n",
       "                 coef    std err          z      P>|z|      [95.0% Conf. Int.]\n",
       "------------------------------------------------------------------------------\n",
       "const          0.4016      0.135      2.985      0.003         0.138     0.665\n",
       "x1             0.5869      0.237      2.477      0.013         0.122     1.051\n",
       "==============================================================================\n",
       "\"\"\""
      ]
     },
     "execution_count": 189,
     "metadata": {},
     "output_type": "execute_result"
    }
   ],
   "source": [
    "logit_res.summary()"
   ]
  },
  {
   "cell_type": "markdown",
   "metadata": {
    "collapsed": true
   },
   "source": [
    "## Maximum Likelihood Estimations using the GenericLikelihoodModel Class"
   ]
  },
  {
   "cell_type": "code",
   "execution_count": 44,
   "metadata": {
    "collapsed": true
   },
   "outputs": [],
   "source": [
    "from statsmodels.base.model import GenericLikelihoodModel\n"
   ]
  },
  {
   "cell_type": "markdown",
   "metadata": {},
   "source": [
    "### Standard Likelihood Problem"
   ]
  },
  {
   "cell_type": "code",
   "execution_count": 45,
   "metadata": {
    "collapsed": false
   },
   "outputs": [],
   "source": [
    "class MyLogit(GenericLikelihoodModel):\n",
    "    def loglike(self, params):\n",
    "        exog = self.exog\n",
    "        endog = self.endog\n",
    "        \n",
    "        choiceProb   = logistic.cdf(self.exog @ params);\n",
    "        ll_i         = np.log((endog==1) * choiceProb + (endog==0) * (1 - choiceProb))\n",
    "        return ll_i.sum()"
   ]
  },
  {
   "cell_type": "code",
   "execution_count": 46,
   "metadata": {
    "collapsed": false
   },
   "outputs": [
    {
     "name": "stdout",
     "output_type": "stream",
     "text": [
      "Optimization terminated successfully.\n",
      "         Current function value: 0.633200\n",
      "         Iterations: 57\n",
      "         Function evaluations: 112\n",
      "                               MyLogit Results                                \n",
      "==============================================================================\n",
      "Dep. Variable:                      y   Log-Likelihood:                -633.20\n",
      "Model:                        MyLogit   AIC:                             1270.\n",
      "Method:            Maximum Likelihood   BIC:                             1280.\n",
      "Date:                Sat, 15 Apr 2017                                         \n",
      "Time:                        01:52:51                                         \n",
      "No. Observations:                1000                                         \n",
      "Df Residuals:                     998                                         \n",
      "Df Model:                           1                                         \n",
      "==============================================================================\n",
      "                 coef    std err          z      P>|z|      [95.0% Conf. Int.]\n",
      "------------------------------------------------------------------------------\n",
      "const          0.4016      0.135      2.985      0.003         0.138     0.665\n",
      "x1             0.5869      0.237      2.477      0.013         0.122     1.051\n",
      "==============================================================================\n"
     ]
    }
   ],
   "source": [
    "sm_logit_manual = MyLogit(data[:,0], data[:,1:]).fit()\n",
    "print(sm_logit_manual.summary())"
   ]
  },
  {
   "cell_type": "markdown",
   "metadata": {},
   "source": [
    "### Example with Simulated ML"
   ]
  },
  {
   "cell_type": "code",
   "execution_count": 47,
   "metadata": {
    "collapsed": true
   },
   "outputs": [],
   "source": [
    "class MySimulatedLogit(GenericLikelihoodModel):\n",
    "    def loglike(self, params):\n",
    "        exog = self.exog\n",
    "        endog = self.endog\n",
    "        \n",
    "        np.random.seed(42)\n",
    "        nSim = 1000\n",
    "    \n",
    "        nObs = endog.shape[0]\n",
    "    \n",
    "        simChoice = np.empty((nObs,nSim))\n",
    "        simChoice[:] = np.NAN\n",
    "\n",
    "        for iSim in range(0, nSim):\n",
    "            simChoice[:,iSim] = simulateBinaryLogit(exog, params)\n",
    "\n",
    "        simProb = simChoice.mean(axis=1)\n",
    "        \n",
    "        ll_i         = np.log((endog==1) * simProb + (endog==0)*(1 - simProb));\n",
    "        return ll_i.sum()"
   ]
  },
  {
   "cell_type": "code",
   "execution_count": 48,
   "metadata": {
    "collapsed": false
   },
   "outputs": [
    {
     "name": "stdout",
     "output_type": "stream",
     "text": [
      "Optimization terminated successfully.\n",
      "         Current function value: 0.634073\n",
      "         Iterations: 25\n",
      "         Function evaluations: 57\n",
      "                           MySimulatedLogit Results                           \n",
      "==============================================================================\n",
      "Dep. Variable:                      y   Log-Likelihood:                -634.07\n",
      "Model:               MySimulatedLogit   AIC:                             1272.\n",
      "Method:            Maximum Likelihood   BIC:                             1282.\n",
      "Date:                Sat, 15 Apr 2017                                         \n",
      "Time:                        01:54:30                                         \n",
      "No. Observations:                1000                                         \n",
      "Df Residuals:                     998                                         \n",
      "Df Model:                           1                                         \n",
      "==============================================================================\n",
      "                 coef    std err          z      P>|z|      [95.0% Conf. Int.]\n",
      "------------------------------------------------------------------------------\n",
      "const          0.3624      0.001    337.679      0.000         0.360     0.365\n",
      "x1             0.6645      0.002    308.860      0.000         0.660     0.669\n",
      "==============================================================================\n"
     ]
    }
   ],
   "source": [
    "# very sensitive to starting values! (flat likelihood?)\n",
    "\n",
    "sm_logit_manual = MySimulatedLogit(data[:,0], data[:,1:]).fit(start_params=0.6*np.ones(2))\n",
    "print(sm_logit_manual.summary())"
   ]
  },
  {
   "cell_type": "code",
   "execution_count": null,
   "metadata": {
    "collapsed": true
   },
   "outputs": [],
   "source": []
  }
 ],
 "metadata": {
  "kernelspec": {
   "display_name": "Python 3",
   "language": "python",
   "name": "python3"
  },
  "language_info": {
   "codemirror_mode": {
    "name": "ipython",
    "version": 3
   },
   "file_extension": ".py",
   "mimetype": "text/x-python",
   "name": "python",
   "nbconvert_exporter": "python",
   "pygments_lexer": "ipython3",
   "version": "3.5.1"
  }
 },
 "nbformat": 4,
 "nbformat_minor": 0
}
